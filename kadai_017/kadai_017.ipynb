{
  "nbformat": 4,
  "nbformat_minor": 0,
  "metadata": {
    "colab": {
      "provenance": []
    },
    "kernelspec": {
      "name": "python3",
      "display_name": "Python 3"
    },
    "language_info": {
      "name": "python"
    }
  },
  "cells": [
    {
      "cell_type": "code",
      "execution_count": 2,
      "metadata": {
        "colab": {
          "base_uri": "https://localhost:8080/"
        },
        "id": "5HPaDHyDI-ey",
        "outputId": "bc912a1a-9bc5-4e2a-fa6d-5c522491d51f"
      },
      "outputs": [
        {
          "output_type": "stream",
          "name": "stdout",
          "text": [
            "Alice は大人です。\n",
            "Bob は大人ではありません。\n",
            "Charlie は大人です。\n"
          ]
        }
      ],
      "source": [
        "class Human:\n",
        "  def __init__(self,name,age):\n",
        "    self.name = name\n",
        "    self.age = age\n",
        "  def check_adult(self):\n",
        "    if self.age >= 20:\n",
        "      print(f\"{self.name} は大人です。\")\n",
        "    else:\n",
        "      print(f\"{self.name} は大人ではありません。\")\n",
        "\n",
        "human_list = []\n",
        "human_list.append(Human(\"Alice\", 25))\n",
        "human_list.append(Human(\"Bob\", 18))\n",
        "human_list.append(Human(\"Charlie\", 22))\n",
        "\n",
        "# リストの要素数分だけcheck_adultメソッドを呼び出す\n",
        "for human in human_list:\n",
        "    human.check_adult()"
      ]
    }
  ]
}