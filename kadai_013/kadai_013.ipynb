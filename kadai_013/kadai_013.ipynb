{
  "nbformat": 4,
  "nbformat_minor": 0,
  "metadata": {
    "colab": {
      "provenance": []
    },
    "kernelspec": {
      "name": "python3",
      "display_name": "Python 3"
    },
    "language_info": {
      "name": "python"
    }
  },
  "cells": [
    {
      "cell_type": "code",
      "execution_count": 7,
      "metadata": {
        "colab": {
          "base_uri": "https://localhost:8080/"
        },
        "id": "9IddBYtyCFG-",
        "outputId": "9b1c4d7f-45e0-426e-caf4-6a8673a77c08"
      },
      "outputs": [
        {
          "output_type": "stream",
          "name": "stdout",
          "text": [
            "770.0000000000001円\n"
          ]
        }
      ],
      "source": [
        "def tax(price,tax):\n",
        "  return price*(tax+1)\n",
        "print(f\"{tax(700,0.1)}円\")"
      ]
    }
  ]
}