{
  "nbformat": 4,
  "nbformat_minor": 0,
  "metadata": {
    "colab": {
      "provenance": []
    },
    "kernelspec": {
      "name": "python3",
      "display_name": "Python 3"
    },
    "language_info": {
      "name": "python"
    }
  },
  "cells": [
    {
      "cell_type": "code",
      "execution_count": 3,
      "metadata": {
        "colab": {
          "base_uri": "https://localhost:8080/"
        },
        "id": "rkWbyOCdM7Jc",
        "outputId": "81688a4d-7a6d-47ca-da55-40fd5c97d897"
      },
      "outputs": [
        {
          "output_type": "stream",
          "name": "stdout",
          "text": [
            "Buzz\n"
          ]
        }
      ],
      "source": [
        "var = 50\n",
        "if var%5 == 0 and var%3 == 0:\n",
        "  print(\"FizzBuzz\")\n",
        "elif var%5 == 0:\n",
        "    print(\"Buzz\")\n",
        "elif var%3 == 0:\n",
        "    print(\"Fizz\")"
      ]
    }
  ]
}